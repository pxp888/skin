{
 "cells": [
  {
   "cell_type": "markdown",
   "metadata": {},
   "source": [
    "# Modelling and Evaluation"
   ]
  },
  {
   "cell_type": "code",
   "execution_count": 13,
   "metadata": {},
   "outputs": [],
   "source": [
    "import numpy as np\n",
    "import pandas as pd\n",
    "import tensorflow as tf\n",
    "import seaborn as sns\n",
    "from tensorflow import keras\n",
    "from tensorflow.keras import layers, Input\n",
    "from tensorflow.keras.models import Sequential, load_model\n",
    "from tensorflow.keras.layers import Activation, Dense, Flatten, BatchNormalization, Conv2D, MaxPool2D\n",
    "from tensorflow.keras.optimizers import Adam\n",
    "from tensorflow.keras.metrics import categorical_crossentropy\n",
    "from tensorflow.keras.preprocessing.image import ImageDataGenerator\n",
    "from sklearn.metrics import confusion_matrix, accuracy_score\n",
    "from sklearn.preprocessing import LabelEncoder\n",
    "from sklearn.metrics import classification_report\n",
    "from PIL import Image\n",
    "\n",
    "import matplotlib.pyplot as plt\n",
    "import os\n",
    "import PIL\n",
    "import shutil\n",
    "import random\n",
    "import glob\n",
    "import itertools"
   ]
  },
  {
   "cell_type": "code",
   "execution_count": 14,
   "metadata": {},
   "outputs": [],
   "source": [
    "train_dir = 'inputs/cancer-dataset/train'\n",
    "test_dir = 'inputs/cancer-dataset/test'\n",
    "val_dir = 'inputs/cancer-dataset/validate'"
   ]
  },
  {
   "cell_type": "code",
   "execution_count": 15,
   "metadata": {},
   "outputs": [
    {
     "data": {
      "text/html": [
       "<div>\n",
       "<style scoped>\n",
       "    .dataframe tbody tr th:only-of-type {\n",
       "        vertical-align: middle;\n",
       "    }\n",
       "\n",
       "    .dataframe tbody tr th {\n",
       "        vertical-align: top;\n",
       "    }\n",
       "\n",
       "    .dataframe thead th {\n",
       "        text-align: right;\n",
       "    }\n",
       "</style>\n",
       "<table border=\"1\" class=\"dataframe\">\n",
       "  <thead>\n",
       "    <tr style=\"text-align: right;\">\n",
       "      <th></th>\n",
       "      <th>lesion_id</th>\n",
       "      <th>image_id</th>\n",
       "      <th>dx</th>\n",
       "      <th>dx_type</th>\n",
       "      <th>age</th>\n",
       "      <th>sex</th>\n",
       "      <th>localization</th>\n",
       "    </tr>\n",
       "  </thead>\n",
       "  <tbody>\n",
       "    <tr>\n",
       "      <th>0</th>\n",
       "      <td>HAM_0000118</td>\n",
       "      <td>ISIC_0027419</td>\n",
       "      <td>bkl</td>\n",
       "      <td>histo</td>\n",
       "      <td>80.0</td>\n",
       "      <td>male</td>\n",
       "      <td>scalp</td>\n",
       "    </tr>\n",
       "    <tr>\n",
       "      <th>1</th>\n",
       "      <td>HAM_0000118</td>\n",
       "      <td>ISIC_0025030</td>\n",
       "      <td>bkl</td>\n",
       "      <td>histo</td>\n",
       "      <td>80.0</td>\n",
       "      <td>male</td>\n",
       "      <td>scalp</td>\n",
       "    </tr>\n",
       "    <tr>\n",
       "      <th>2</th>\n",
       "      <td>HAM_0002730</td>\n",
       "      <td>ISIC_0026769</td>\n",
       "      <td>bkl</td>\n",
       "      <td>histo</td>\n",
       "      <td>80.0</td>\n",
       "      <td>male</td>\n",
       "      <td>scalp</td>\n",
       "    </tr>\n",
       "    <tr>\n",
       "      <th>3</th>\n",
       "      <td>HAM_0002730</td>\n",
       "      <td>ISIC_0025661</td>\n",
       "      <td>bkl</td>\n",
       "      <td>histo</td>\n",
       "      <td>80.0</td>\n",
       "      <td>male</td>\n",
       "      <td>scalp</td>\n",
       "    </tr>\n",
       "    <tr>\n",
       "      <th>4</th>\n",
       "      <td>HAM_0001466</td>\n",
       "      <td>ISIC_0031633</td>\n",
       "      <td>bkl</td>\n",
       "      <td>histo</td>\n",
       "      <td>75.0</td>\n",
       "      <td>male</td>\n",
       "      <td>ear</td>\n",
       "    </tr>\n",
       "  </tbody>\n",
       "</table>\n",
       "</div>"
      ],
      "text/plain": [
       "     lesion_id      image_id   dx dx_type   age   sex localization\n",
       "0  HAM_0000118  ISIC_0027419  bkl   histo  80.0  male        scalp\n",
       "1  HAM_0000118  ISIC_0025030  bkl   histo  80.0  male        scalp\n",
       "2  HAM_0002730  ISIC_0026769  bkl   histo  80.0  male        scalp\n",
       "3  HAM_0002730  ISIC_0025661  bkl   histo  80.0  male        scalp\n",
       "4  HAM_0001466  ISIC_0031633  bkl   histo  75.0  male          ear"
      ]
     },
     "execution_count": 15,
     "metadata": {},
     "output_type": "execute_result"
    }
   ],
   "source": [
    "meta_data = pd.read_csv(\"inputs/cancer-dataset/HAM10000_metadata.csv\")\n",
    "meta_data.head()"
   ]
  },
  {
   "cell_type": "markdown",
   "metadata": {},
   "source": [
    "## Data Preprocessing"
   ]
  },
  {
   "cell_type": "code",
   "execution_count": 16,
   "metadata": {},
   "outputs": [
    {
     "name": "stdout",
     "output_type": "stream",
     "text": [
      "Found 7010 images belonging to 7 classes.\n",
      "Found 2003 images belonging to 7 classes.\n",
      "Found 1002 images belonging to 7 classes.\n"
     ]
    }
   ],
   "source": [
    "image_size = (224, 224)\n",
    "batch_size = 32\n",
    "\n",
    "# Create an ImageDataGenerator for preprocessing\n",
    "datagen = ImageDataGenerator(preprocessing_function = tf.keras.applications.vgg16.preprocess_input)\n",
    "\n",
    "# Create the train_batches using flow_from_directory\n",
    "train_batches = datagen.flow_from_directory(\n",
    "    train_dir,\n",
    "    target_size=image_size,\n",
    "    batch_size=batch_size,\n",
    "    classes=['akiec', 'mel', 'nv', 'bcc', 'df', 'vasc', 'bkl']\n",
    ")\n",
    "\n",
    "# Create the test_batches using flow_from_directory\n",
    "test_batches = datagen.flow_from_directory(\n",
    "    test_dir,\n",
    "    target_size=image_size,\n",
    "    batch_size=batch_size,\n",
    "    classes=['akiec', 'mel', 'nv', 'bcc', 'df', 'vasc', 'bkl']\n",
    ")\n",
    "\n",
    "# Create the valid_batches using flow_from_directory\n",
    "valid_batches = datagen.flow_from_directory(\n",
    "    val_dir,\n",
    "    target_size=image_size,\n",
    "    batch_size=batch_size,\n",
    "    classes=['akiec', 'mel', 'nv', 'bcc', 'df', 'vasc', 'bkl']\n",
    ")"
   ]
  },
  {
   "cell_type": "markdown",
   "metadata": {},
   "source": [
    "## Build CNN"
   ]
  },
  {
   "cell_type": "markdown",
   "metadata": {},
   "source": [
    "model = Sequential([\n",
    "    Input(shape=(224,224,3)),\n",
    "    Conv2D(filters=32, kernel_size=(3,3), padding='same', activation='relu'),\n",
    "    BatchNormalization(),\n",
    "    MaxPool2D(pool_size=(2,2), strides=2),\n",
    "    \n",
    "    Conv2D(filters=64, kernel_size=(3,3), padding='same', activation='relu'),\n",
    "    MaxPool2D(pool_size=(2,2), strides=2),\n",
    "    \n",
    "    Flatten(),\n",
    "    \n",
    "    Dense(units=7, activation='softmax'),\n",
    "])\n",
    "\n",
    "model.summary()"
   ]
  },
  {
   "cell_type": "markdown",
   "metadata": {},
   "source": [
    "  model.compile(optimizer= Adam(learning_rate = 0.0001), \n",
    "              loss= 'categorical_crossentropy', \n",
    "              metrics=['accuracy'])"
   ]
  },
  {
   "cell_type": "markdown",
   "metadata": {},
   "source": [
    "## Training \n",
    "* This step can be skipped if a model has been trained previously. "
   ]
  },
  {
   "cell_type": "code",
   "execution_count": null,
   "metadata": {},
   "outputs": [],
   "source": [
    "model.fit(\n",
    "    x=train_batches, \n",
    "    validation_data=valid_batches,\n",
    "    epochs=10, \n",
    "    verbose=2)\n"
   ]
  },
  {
   "cell_type": "code",
   "execution_count": null,
   "metadata": {},
   "outputs": [],
   "source": [
    "model.save('outputs/model.keras')"
   ]
  },
  {
   "cell_type": "markdown",
   "metadata": {},
   "source": [
    "## Model Evaluation"
   ]
  },
  {
   "cell_type": "code",
   "execution_count": 9,
   "metadata": {},
   "outputs": [
    {
     "ename": "AttributeError",
     "evalue": "'Sequential' object has no attribute 'history'",
     "output_type": "error",
     "traceback": [
      "\u001b[0;31m---------------------------------------------------------------------------\u001b[0m",
      "\u001b[0;31mAttributeError\u001b[0m                            Traceback (most recent call last)",
      "Cell \u001b[0;32mIn[9], line 1\u001b[0m\n\u001b[0;32m----> 1\u001b[0m metrics \u001b[38;5;241m=\u001b[39m \u001b[43mmodel\u001b[49m\u001b[38;5;241;43m.\u001b[39;49m\u001b[43mhistory\u001b[49m\u001b[38;5;241m.\u001b[39mhistory\n\u001b[1;32m      3\u001b[0m train_loss \u001b[38;5;241m=\u001b[39m metrics[\u001b[38;5;124m\"\u001b[39m\u001b[38;5;124mloss\u001b[39m\u001b[38;5;124m\"\u001b[39m]\n\u001b[1;32m      4\u001b[0m train_accuracy \u001b[38;5;241m=\u001b[39m metrics[\u001b[38;5;124m\"\u001b[39m\u001b[38;5;124maccuracy\u001b[39m\u001b[38;5;124m\"\u001b[39m]\n",
      "\u001b[0;31mAttributeError\u001b[0m: 'Sequential' object has no attribute 'history'"
     ]
    }
   ],
   "source": [
    "metrics = model.history.history\n",
    "\n",
    "train_loss = metrics[\"loss\"]\n",
    "train_accuracy = metrics[\"accuracy\"]\n",
    "\n",
    "test_loss = metrics[\"val_loss\"]\n",
    "test_accuracy = metrics[\"val_accuracy\"]\n",
    "\n",
    "# Visualizing metrics\n",
    "plt.figure(figsize = (13,4))\n",
    "plt.subplot(1,2,1)\n",
    "plt.title(\"Loss.\")\n",
    "plt.plot(train_loss, label = \"Train\");\n",
    "plt.plot(test_loss, label = \"Test\");\n",
    "plt.grid(True)\n",
    "plt.legend(loc = \"best\");\n",
    "\n",
    "plt.subplot(1,2,2)\n",
    "plt.title(\"Accuracy.\")\n",
    "plt.plot(train_accuracy, label = \"Train\");\n",
    "plt.plot(test_accuracy, label = \"Test\");\n",
    "plt.grid(True)\n",
    "plt.legend(loc = \"best\");"
   ]
  },
  {
   "cell_type": "markdown",
   "metadata": {},
   "source": [
    "## Model Prediction"
   ]
  },
  {
   "cell_type": "code",
   "execution_count": 17,
   "metadata": {},
   "outputs": [],
   "source": [
    "model = load_model('outputs/model.keras')"
   ]
  },
  {
   "cell_type": "code",
   "execution_count": 20,
   "metadata": {},
   "outputs": [
    {
     "data": {
      "text/plain": [
       "array([[4.0247127e-08, 6.3152486e-01, 3.6314777e-01, ..., 1.2382140e-12,\n",
       "        1.9007976e-13, 5.3272713e-03],\n",
       "       [4.7402181e-02, 2.6852276e-02, 5.5342070e-03, ..., 1.9528640e-02,\n",
       "        1.9396460e-04, 6.1274055e-02],\n",
       "       [4.6593173e-06, 1.5192643e-01, 8.1109089e-01, ..., 9.7608781e-06,\n",
       "        5.9753773e-08, 3.6825072e-02],\n",
       "       ...,\n",
       "       [1.1675778e-05, 5.6037732e-04, 2.2862205e-01, ..., 1.1493804e-04,\n",
       "        5.7349284e-06, 7.4552059e-01],\n",
       "       [9.9470932e-04, 2.3058687e-05, 8.5163963e-01, ..., 5.6512054e-04,\n",
       "        7.8032389e-03, 1.2727156e-01],\n",
       "       [1.8433525e-03, 1.1141908e-01, 5.1849139e-01, ..., 1.8158810e-04,\n",
       "        1.2414660e-08, 3.6416486e-01]], dtype=float32)"
      ]
     },
     "execution_count": 20,
     "metadata": {},
     "output_type": "execute_result"
    }
   ],
   "source": [
    "predictions = model.predict(x=test_batches, verbose=0)\n",
    "np.round(predictions)"
   ]
  }
 ],
 "metadata": {
  "kernelspec": {
   "display_name": "ten3",
   "language": "python",
   "name": "python3"
  },
  "language_info": {
   "codemirror_mode": {
    "name": "ipython",
    "version": 3
   },
   "file_extension": ".py",
   "mimetype": "text/x-python",
   "name": "python",
   "nbconvert_exporter": "python",
   "pygments_lexer": "ipython3",
   "version": "3.10.14"
  }
 },
 "nbformat": 4,
 "nbformat_minor": 2
}
