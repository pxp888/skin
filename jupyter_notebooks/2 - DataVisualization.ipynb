{
 "cells": [
  {
   "cell_type": "markdown",
   "metadata": {},
   "source": [
    "# Data Visualization\n",
    "\n",
    "## Objective \n",
    "* Determine visual differences in potential skin cancer photographs\n",
    "\n",
    "## Inputs\n",
    "* inputs/cancer-dataset/train\n",
    "* inputs/cancer-dataset/test\n",
    "* inputs/cancer-dataset/validate\n"
   ]
  },
  {
   "cell_type": "code",
   "execution_count": 11,
   "metadata": {},
   "outputs": [],
   "source": [
    "import os\n",
    "import pandas as pd\n",
    "import numpy as np\n",
    "import matplotlib.pyplot as plt\n",
    "import seaborn as sns\n",
    "import joblib\n",
    "sns.set_style(\"white\")\n",
    "from matplotlib.image import imread"
   ]
  },
  {
   "cell_type": "code",
   "execution_count": 21,
   "metadata": {},
   "outputs": [],
   "source": [
    "os.chdir(os.path.expanduser('~'))\n",
    "os.chdir('Desktop/skin')\n",
    "\n",
    "my_data_dir = 'inputs/cancer-dataset'\n",
    "train_path = my_data_dir + '/train'\n",
    "val_path = my_data_dir + '/validate'\n",
    "test_path = my_data_dir + '/test'\n",
    "\n",
    "labels = os.listdir(train_path)\n"
   ]
  }
 ],
 "metadata": {
  "kernelspec": {
   "display_name": "ten3",
   "language": "python",
   "name": "python3"
  },
  "language_info": {
   "codemirror_mode": {
    "name": "ipython",
    "version": 3
   },
   "file_extension": ".py",
   "mimetype": "text/x-python",
   "name": "python",
   "nbconvert_exporter": "python",
   "pygments_lexer": "ipython3",
   "version": "3.10.14"
  }
 },
 "nbformat": 4,
 "nbformat_minor": 2
}
