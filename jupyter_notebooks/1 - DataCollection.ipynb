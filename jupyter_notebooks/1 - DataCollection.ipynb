{
 "cells": [
  {
   "cell_type": "markdown",
   "metadata": {},
   "source": [
    "# Data Collection\n",
    "\n",
    "This assumes that you have registered an account with Kaggle, and have created a json key to interact with Kaggle's API.  "
   ]
  },
  {
   "cell_type": "code",
   "execution_count": 8,
   "metadata": {},
   "outputs": [],
   "source": [
    "import os\n",
    "import shutil\n",
    "import pandas as pd\n",
    "import numpy as np"
   ]
  },
  {
   "cell_type": "code",
   "execution_count": 9,
   "metadata": {},
   "outputs": [
    {
     "data": {
      "text/plain": [
       "'/home/pxp/Desktop/skin'"
      ]
     },
     "execution_count": 9,
     "metadata": {},
     "output_type": "execute_result"
    }
   ],
   "source": [
    "os.chdir(os.path.expanduser('~'))\n",
    "os.chdir('Desktop/skin')\n",
    "\n",
    "current_dir = os.getcwd()\n",
    "current_dir"
   ]
  },
  {
   "cell_type": "code",
   "execution_count": 10,
   "metadata": {},
   "outputs": [
    {
     "data": {
      "text/html": [
       "<div>\n",
       "<style scoped>\n",
       "    .dataframe tbody tr th:only-of-type {\n",
       "        vertical-align: middle;\n",
       "    }\n",
       "\n",
       "    .dataframe tbody tr th {\n",
       "        vertical-align: top;\n",
       "    }\n",
       "\n",
       "    .dataframe thead th {\n",
       "        text-align: right;\n",
       "    }\n",
       "</style>\n",
       "<table border=\"1\" class=\"dataframe\">\n",
       "  <thead>\n",
       "    <tr style=\"text-align: right;\">\n",
       "      <th></th>\n",
       "      <th>lesion_id</th>\n",
       "      <th>image_id</th>\n",
       "      <th>dx</th>\n",
       "      <th>dx_type</th>\n",
       "      <th>age</th>\n",
       "      <th>sex</th>\n",
       "      <th>localization</th>\n",
       "    </tr>\n",
       "  </thead>\n",
       "  <tbody>\n",
       "    <tr>\n",
       "      <th>0</th>\n",
       "      <td>HAM_0000118</td>\n",
       "      <td>ISIC_0027419</td>\n",
       "      <td>bkl</td>\n",
       "      <td>histo</td>\n",
       "      <td>80.0</td>\n",
       "      <td>male</td>\n",
       "      <td>scalp</td>\n",
       "    </tr>\n",
       "    <tr>\n",
       "      <th>1</th>\n",
       "      <td>HAM_0000118</td>\n",
       "      <td>ISIC_0025030</td>\n",
       "      <td>bkl</td>\n",
       "      <td>histo</td>\n",
       "      <td>80.0</td>\n",
       "      <td>male</td>\n",
       "      <td>scalp</td>\n",
       "    </tr>\n",
       "    <tr>\n",
       "      <th>2</th>\n",
       "      <td>HAM_0002730</td>\n",
       "      <td>ISIC_0026769</td>\n",
       "      <td>bkl</td>\n",
       "      <td>histo</td>\n",
       "      <td>80.0</td>\n",
       "      <td>male</td>\n",
       "      <td>scalp</td>\n",
       "    </tr>\n",
       "    <tr>\n",
       "      <th>3</th>\n",
       "      <td>HAM_0002730</td>\n",
       "      <td>ISIC_0025661</td>\n",
       "      <td>bkl</td>\n",
       "      <td>histo</td>\n",
       "      <td>80.0</td>\n",
       "      <td>male</td>\n",
       "      <td>scalp</td>\n",
       "    </tr>\n",
       "    <tr>\n",
       "      <th>4</th>\n",
       "      <td>HAM_0001466</td>\n",
       "      <td>ISIC_0031633</td>\n",
       "      <td>bkl</td>\n",
       "      <td>histo</td>\n",
       "      <td>75.0</td>\n",
       "      <td>male</td>\n",
       "      <td>ear</td>\n",
       "    </tr>\n",
       "  </tbody>\n",
       "</table>\n",
       "</div>"
      ],
      "text/plain": [
       "     lesion_id      image_id   dx dx_type   age   sex localization\n",
       "0  HAM_0000118  ISIC_0027419  bkl   histo  80.0  male        scalp\n",
       "1  HAM_0000118  ISIC_0025030  bkl   histo  80.0  male        scalp\n",
       "2  HAM_0002730  ISIC_0026769  bkl   histo  80.0  male        scalp\n",
       "3  HAM_0002730  ISIC_0025661  bkl   histo  80.0  male        scalp\n",
       "4  HAM_0001466  ISIC_0031633  bkl   histo  75.0  male          ear"
      ]
     },
     "execution_count": 10,
     "metadata": {},
     "output_type": "execute_result"
    }
   ],
   "source": [
    "meta_data = pd.read_csv(\"inputs/skin cancer/HAM10000_metadata.csv\")\n",
    "meta_data.head()"
   ]
  },
  {
   "cell_type": "markdown",
   "metadata": {},
   "source": [
    "# Data Preparation"
   ]
  },
  {
   "cell_type": "markdown",
   "metadata": {},
   "source": [
    "## Split train validation test set"
   ]
  },
  {
   "cell_type": "code",
   "execution_count": 11,
   "metadata": {},
   "outputs": [],
   "source": [
    "image_dir_path = 'inputs/skin cancer/Skin Cancer/Skin Cancer' \n",
    "train_dir = 'inputs/work/train'\n",
    "test_dir = 'inputs/work/test'\n",
    "val_dir = 'inputs/work/validate'\n",
    "\n",
    "os.makedirs(train_dir, exist_ok=True)\n",
    "os.makedirs(test_dir, exist_ok=True)\n",
    "os.makedirs(val_dir, exist_ok=True)\n",
    "\n",
    "cancer_types = meta_data[\"dx\"].unique()\n",
    "for cancer_type in cancer_types:\n",
    "    os.makedirs(os.path.join(train_dir, cancer_type), exist_ok=True)\n",
    "    os.makedirs(os.path.join(test_dir, cancer_type), exist_ok=True)\n",
    "    os.makedirs(os.path.join(val_dir, cancer_type), exist_ok=True)"
   ]
  },
  {
   "cell_type": "code",
   "execution_count": 12,
   "metadata": {},
   "outputs": [],
   "source": [
    "for dpath in [train_dir, test_dir, val_dir]:\n",
    "    for root, dirs, files in os.walk(dpath):\n",
    "        for file in files:\n",
    "            os.remove(os.path.join(root, file))"
   ]
  },
  {
   "cell_type": "code",
   "execution_count": 13,
   "metadata": {},
   "outputs": [],
   "source": [
    "meta_data = meta_data.sample(frac=1).reset_index(drop=True)\n",
    "\n",
    "train_count = int(meta_data.shape[0]*.7)\n",
    "test_count = int(meta_data.shape[0]*.2)\n",
    "\n",
    "counts = {}\n",
    "\n",
    "for i in range(meta_data.shape[0]):\n",
    "    image_path = os.path.join(image_dir_path, meta_data[\"image_id\"][i]+\".jpg\")\n",
    "    if i < train_count:\n",
    "        target = os.path.join(train_dir, meta_data[\"dx\"][i])\n",
    "    elif i < train_count + test_count:\n",
    "        target = os.path.join(test_dir, meta_data[\"dx\"][i])\n",
    "    else:\n",
    "        target = os.path.join(val_dir, meta_data[\"dx\"][i])\n",
    "        \n",
    "    if not target in counts:\n",
    "        counts[target] = 0\n",
    "    else:\n",
    "        counts[target] += 1\n",
    "    if counts[target] > 200:\n",
    "        continue\n",
    "    shutil.copy(image_path, target)"
   ]
  },
  {
   "cell_type": "code",
   "execution_count": 14,
   "metadata": {},
   "outputs": [
    {
     "name": "stdout",
     "output_type": "stream",
     "text": [
      "Files found:\n"
     ]
    },
    {
     "data": {
      "text/html": [
       "<div>\n",
       "<style scoped>\n",
       "    .dataframe tbody tr th:only-of-type {\n",
       "        vertical-align: middle;\n",
       "    }\n",
       "\n",
       "    .dataframe tbody tr th {\n",
       "        vertical-align: top;\n",
       "    }\n",
       "\n",
       "    .dataframe thead th {\n",
       "        text-align: right;\n",
       "    }\n",
       "</style>\n",
       "<table border=\"1\" class=\"dataframe\">\n",
       "  <thead>\n",
       "    <tr style=\"text-align: right;\">\n",
       "      <th></th>\n",
       "      <th>TRAIN</th>\n",
       "      <th>TEST</th>\n",
       "      <th>VALIDATE</th>\n",
       "      <th>TOTAL</th>\n",
       "    </tr>\n",
       "  </thead>\n",
       "  <tbody>\n",
       "    <tr>\n",
       "      <th>bkl</th>\n",
       "      <td>790</td>\n",
       "      <td>198</td>\n",
       "      <td>111</td>\n",
       "      <td>1099</td>\n",
       "    </tr>\n",
       "    <tr>\n",
       "      <th>nv</th>\n",
       "      <td>1001</td>\n",
       "      <td>1001</td>\n",
       "      <td>681</td>\n",
       "      <td>2683</td>\n",
       "    </tr>\n",
       "    <tr>\n",
       "      <th>df</th>\n",
       "      <td>79</td>\n",
       "      <td>22</td>\n",
       "      <td>14</td>\n",
       "      <td>115</td>\n",
       "    </tr>\n",
       "    <tr>\n",
       "      <th>mel</th>\n",
       "      <td>774</td>\n",
       "      <td>230</td>\n",
       "      <td>109</td>\n",
       "      <td>1113</td>\n",
       "    </tr>\n",
       "    <tr>\n",
       "      <th>vasc</th>\n",
       "      <td>97</td>\n",
       "      <td>29</td>\n",
       "      <td>16</td>\n",
       "      <td>142</td>\n",
       "    </tr>\n",
       "    <tr>\n",
       "      <th>bcc</th>\n",
       "      <td>366</td>\n",
       "      <td>110</td>\n",
       "      <td>38</td>\n",
       "      <td>514</td>\n",
       "    </tr>\n",
       "    <tr>\n",
       "      <th>akiec</th>\n",
       "      <td>230</td>\n",
       "      <td>64</td>\n",
       "      <td>33</td>\n",
       "      <td>327</td>\n",
       "    </tr>\n",
       "    <tr>\n",
       "      <th>TOTAL</th>\n",
       "      <td>3337</td>\n",
       "      <td>1654</td>\n",
       "      <td>1002</td>\n",
       "      <td>5993</td>\n",
       "    </tr>\n",
       "  </tbody>\n",
       "</table>\n",
       "</div>"
      ],
      "text/plain": [
       "      TRAIN  TEST VALIDATE TOTAL\n",
       "bkl     790   198      111  1099\n",
       "nv     1001  1001      681  2683\n",
       "df       79    22       14   115\n",
       "mel     774   230      109  1113\n",
       "vasc     97    29       16   142\n",
       "bcc     366   110       38   514\n",
       "akiec   230    64       33   327\n",
       "TOTAL  3337  1654     1002  5993"
      ]
     },
     "execution_count": 14,
     "metadata": {},
     "output_type": "execute_result"
    }
   ],
   "source": [
    "paths = [train_dir, test_dir, val_dir]\n",
    "names = ['TRAIN', 'TEST', 'VALIDATE']\n",
    "nums = pd.DataFrame(columns=names, index=cancer_types)\n",
    "\n",
    "for name in names: \n",
    "    for cancer_type in cancer_types:\n",
    "        nums.loc[cancer_type, name] = len(os.listdir(os.path.join(paths[names.index(name)], cancer_type)))\n",
    "\n",
    "nums.loc['TOTAL'] = nums.sum()\n",
    "nums['TOTAL'] = nums.sum(axis=1)\n",
    "\n",
    "print('Files present:')\n",
    "nums "
   ]
  }
 ],
 "metadata": {
  "kernelspec": {
   "display_name": "ten3",
   "language": "python",
   "name": "python3"
  },
  "language_info": {
   "codemirror_mode": {
    "name": "ipython",
    "version": 3
   },
   "file_extension": ".py",
   "mimetype": "text/x-python",
   "name": "python",
   "nbconvert_exporter": "python",
   "pygments_lexer": "ipython3",
   "version": "3.10.14"
  }
 },
 "nbformat": 4,
 "nbformat_minor": 2
}
